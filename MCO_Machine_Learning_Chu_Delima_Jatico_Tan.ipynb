{
 "cells": [
  {
   "cell_type": "markdown",
   "metadata": {},
   "source": [
    "# MCO Machine Learning Technical Notebook"
   ]
  },
  {
   "cell_type": "markdown",
   "metadata": {},
   "source": [
    "###### Authors: \n",
    "                Chuan Chen Chu,\n",
    "                Reynaldo Delima,\n",
    "                Nilo Jatico II,\n",
    "                Jedwig Tan\n",
    "                \n",
    "##### Section: \n",
    "                STINTSY S16"
   ]
  },
  {
   "cell_type": "markdown",
   "metadata": {},
   "source": [
    "## Introduction"
   ]
  },
  {
   "cell_type": "markdown",
   "metadata": {},
   "source": [
    "In the topic of diseases and disabilities, having a stroke can instantly spell death or long-term disability if not immediately treated and given attention to. Characterized as either a Ishcemic Stroke or a hemorrhagic stroke, both types development from different causes but both leave similar detrimental effects to the physical and mental well-being of the afflicted. To define both types, an Ishcemic Stroke pertains to a phenoma when an artery is blocked or narrowed, resulting in a reduction in blood flow. Ischemic strokes attribute to an estimate 87% of all reported strokes(Mcintosh,2020). Hemorrhagic strokes, on the other hand, are characterized by having blood vessels in the brain become ruptured or burst entirely. A stroke can be caused by many aspects, with lifestyle issues such as smoking, drug use, drinking, obesity and medical issues such as Cardiovascular complications, high blood pressure or cholesterol, family genes being possible risks to having a stroke. Race, Gender and Age may also attribute to Stroke rates and risk(Mayo Clinic,2021). A stroke could lead to life lasting complications including Paralysis, difficulty in eating or conversing, lasting pain, mental-related problems, behavioral problems, and memory or thought related difficulties. A stroke is also very likely to cause death, especially if the afflicted is not given immediate response and medical treatment to. "
   ]
  },
  {
   "cell_type": "markdown",
   "metadata": {},
   "source": [
    "As the second leading cause of death in a study conducted in 2016 by the World Health Organization(Johnson,Onuma,Owolabi Sachdev,2016), a stroke can become fatal if not given ample attention immediately. Being able to predict if an individual is at risk of having a stroke can help the individual take steps in changing medical or lifestyle issues to help prevent the risk turning into a reality, or at the very worst case scenario, help minimize the effects of stroke and prevent life-long disabilities or death from occuring."
   ]
  },
  {
   "cell_type": "markdown",
   "metadata": {},
   "source": [
    "Given that the risks and possible causes leading to a stroke have been researched and discovered, it could be hypothesized that a machine could be able to deduce if a certain individual is suspect to be at risk of a stroke based on assessing if the individual if he/she is currently practicing or experienceing the following risks mentioned earlier in this chapter. As such, the problem that this notebook aims to tackle and accomplish is whether it is possible to create a machine capable of diagnosing if a person is suseptible to having a stroke."
   ]
  },
  {
   "cell_type": "markdown",
   "metadata": {},
   "source": [
    "### Statement of the Problem"
   ]
  },
  {
   "cell_type": "markdown",
   "metadata": {},
   "source": [
    "*Is it possible to create a machine that is capable of diagnosing if a person is at risk of having a stroke?*"
   ]
  },
  {
   "cell_type": "markdown",
   "metadata": {},
   "source": [
    "## Stroke Prediction Dataset"
   ]
  },
  {
   "cell_type": "code",
   "execution_count": null,
   "metadata": {},
   "outputs": [],
   "source": []
  },
  {
   "cell_type": "code",
   "execution_count": null,
   "metadata": {},
   "outputs": [],
   "source": []
  },
  {
   "cell_type": "code",
   "execution_count": null,
   "metadata": {},
   "outputs": [],
   "source": []
  },
  {
   "cell_type": "code",
   "execution_count": null,
   "metadata": {},
   "outputs": [],
   "source": []
  },
  {
   "cell_type": "markdown",
   "metadata": {},
   "source": [
    "## Methodology"
   ]
  },
  {
   "cell_type": "code",
   "execution_count": null,
   "metadata": {},
   "outputs": [],
   "source": []
  },
  {
   "cell_type": "code",
   "execution_count": null,
   "metadata": {},
   "outputs": [],
   "source": []
  },
  {
   "cell_type": "markdown",
   "metadata": {},
   "source": [
    "## Results and Analysis"
   ]
  },
  {
   "cell_type": "code",
   "execution_count": null,
   "metadata": {},
   "outputs": [],
   "source": []
  },
  {
   "cell_type": "code",
   "execution_count": null,
   "metadata": {},
   "outputs": [],
   "source": []
  },
  {
   "cell_type": "markdown",
   "metadata": {},
   "source": [
    "## Conclusion"
   ]
  },
  {
   "cell_type": "code",
   "execution_count": null,
   "metadata": {},
   "outputs": [],
   "source": []
  },
  {
   "cell_type": "code",
   "execution_count": null,
   "metadata": {},
   "outputs": [],
   "source": []
  },
  {
   "cell_type": "markdown",
   "metadata": {},
   "source": [
    "## References"
   ]
  },
  {
   "cell_type": "markdown",
   "metadata": {},
   "source": [
    "Johnson, W., Onuma, O., Owolabi, M., & Sachdev, S. (2016, September). Stroke: A global response is needed. Retrieved from https://www.who.int/bulletin/volumes/94/9/16-181636/en/\n",
    "\n",
    "Holland, K. (2019, October 16). Stroke: Causes, symptoms, diagnosis, and treatment. Retrieved from https://www.medicalnewstoday.com/articles/7624\n",
    "\n",
    "Stroke. (2021, February 09). Retrieved from https://www.mayoclinic.org/diseases-conditions/stroke/symptoms-causes/syc-20350113"
   ]
  },
  {
   "cell_type": "markdown",
   "metadata": {},
   "source": [
    "##  Appendix A. Contribution of Members\n"
   ]
  },
  {
   "cell_type": "code",
   "execution_count": null,
   "metadata": {},
   "outputs": [],
   "source": []
  },
  {
   "cell_type": "code",
   "execution_count": null,
   "metadata": {},
   "outputs": [],
   "source": []
  },
  {
   "cell_type": "code",
   "execution_count": null,
   "metadata": {},
   "outputs": [],
   "source": []
  },
  {
   "cell_type": "code",
   "execution_count": null,
   "metadata": {},
   "outputs": [],
   "source": []
  }
 ],
 "metadata": {
  "kernelspec": {
   "display_name": "Python 3",
   "language": "python",
   "name": "python3"
  },
  "language_info": {
   "codemirror_mode": {
    "name": "ipython",
    "version": 3
   },
   "file_extension": ".py",
   "mimetype": "text/x-python",
   "name": "python",
   "nbconvert_exporter": "python",
   "pygments_lexer": "ipython3",
   "version": "3.8.5"
  }
 },
 "nbformat": 4,
 "nbformat_minor": 4
}
