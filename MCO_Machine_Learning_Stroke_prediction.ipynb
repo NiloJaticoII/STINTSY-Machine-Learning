{
 "cells": [
  {
   "cell_type": "markdown",
   "metadata": {},
   "source": [
    "# MCO Machine Learning Technical Notebook"
   ]
  },
  {
   "cell_type": "markdown",
   "metadata": {},
   "source": [
    "###### Authors: \n",
    "                Chuan Chen Chu,\n",
    "                Reynaldo Delima,\n",
    "                Nilo Jatico II,\n",
    "                Jedwig Tan\n",
    "                \n",
    "##### Section: \n",
    "                STINTSY S16"
   ]
  },
  {
   "cell_type": "markdown",
   "metadata": {},
   "source": [
    "# Introduction"
   ]
  },
  {
   "cell_type": "markdown",
   "metadata": {},
   "source": [
    "In the topic of diseases and disabilities, having a stroke can instantly spell death or long-term disability if not immediately treated and given attention to. Characterized as either a Ishcemic Stroke or a hemorrhagic stroke, both types development from different causes but both leave similar detrimental effects to the physical and mental well-being of the afflicted. To define both types, an Ishcemic Stroke pertains to a phenoma when an artery is blocked or narrowed, resulting in a reduction in blood flow. Ischemic strokes attribute to an estimate 87% of all reported strokes(Mcintosh,2020). Hemorrhagic strokes, on the other hand, are characterized by having blood vessels in the brain become ruptured or burst entirely. A stroke can be caused by many aspects, with lifestyle issues such as smoking, drug use, drinking, obesity and medical issues such as Cardiovascular complications, high blood pressure or cholesterol, family genes being possible risks to having a stroke. Race, Gender and Age may also attribute to Stroke rates and risk(Mayo Clinic,2021). A stroke could lead to life lasting complications including Paralysis, difficulty in eating or conversing, lasting pain, mental-related problems, behavioral problems, and memory or thought related difficulties. A stroke is also very likely to cause death, especially if the afflicted is not given immediate response and medical treatment to. "
   ]
  },
  {
   "cell_type": "markdown",
   "metadata": {},
   "source": [
    "As the second leading cause of death in a study conducted in 2016 by the World Health Organization(Johnson,Onuma,Owolabi Sachdev,2016), a stroke can become fatal if not given ample attention immediately. Being able to predict if an individual is at risk of having a stroke can help the individual take steps in changing medical or lifestyle issues to help prevent the risk turning into a reality, or at the very worst case scenario, help minimize the effects of stroke and prevent life-long disabilities or death from occuring."
   ]
  },
  {
   "cell_type": "markdown",
   "metadata": {},
   "source": [
    "Given that the risks and possible causes leading to a stroke have been researched and discovered, it could be hypothesized that a machine could be able to deduce if a certain individual is suspect to be at risk of a stroke based on assessing if the individual if he/she is currently practicing or experienceing the following risks mentioned earlier in this chapter. As such, the problem that this notebook aims to tackle and accomplish is whether it is possible to create a machine capable of diagnosing if a person is suseptible to having a stroke."
   ]
  },
  {
   "cell_type": "markdown",
   "metadata": {},
   "source": [
    "### Statement of the Problem"
   ]
  },
  {
   "cell_type": "markdown",
   "metadata": {},
   "source": [
    "*Is it possible to create a machine that is capable of diagnosing if a person is at risk of having a stroke?*"
   ]
  },
  {
   "cell_type": "markdown",
   "metadata": {},
   "source": [
    "# Stroke Prediction Dataset"
   ]
  },
  {
   "cell_type": "markdown",
   "metadata": {},
   "source": [
    "The Stroke Prediction Dataset is a dataset that was taken from the website Kaggle and was created by Fede Soriano, a Data Scientist from Madrid Spain.It features approx. 5,000 patient entries with twelve features. Each of the first eleven feature pertains to a risk factor that may lead to a stroke. The final feature is a binary value indicating whether the patient in question has had a stroke or not. The origin of the patients featured in the dataset were stated as confidential in the acknowledgement of the dataset. The dataset was created in order to predict possible risk in having a stroke given the state of the patient in various input parameters."
   ]
  },
  {
   "cell_type": "markdown",
   "metadata": {},
   "source": [
    "### The 12 features in the dataset are namely:"
   ]
  },
  {
   "cell_type": "markdown",
   "metadata": {},
   "source": [
    "The first feature is the **id** feature, which is a numerical unique identifier for each patient in the dataset consiting of four or five numbers. Each patient has a unique id that is not shared with any other patient in the dataset, and thus means that in the dataset, there are five thousand one hundred ten different labels with each entry having a unique id label."
   ]
  },
  {
   "cell_type": "markdown",
   "metadata": {},
   "source": [
    "The second feature is the **gender** feature, which portrays the gender of the patient. There are 3 labels in the feature, namely *male* with a 41% distribution, *female* with a 59% distribution, and other, being labeled in only one dataset entry. Studies have shown that men are more likely to have age-related strokes than women(Reeves,2008). "
   ]
  },
  {
   "cell_type": "markdown",
   "metadata": {},
   "source": [
    "The third feature is the **age** feature, which signifies the age of the patient at the time of documentation, with the possible labels in the dataset being a numerical value anywhere between 0.08 to 82, with decimal values indicating patients with an age in months. Individuals of older age are more likely to be at risk of getting a stroke. \n",
    "###### based on the dataset,there are:\n",
    "                              434 patients aged 0 to 8 years old\n",
    "                              362 patient entries are aged 8-16.45 years old\n",
    "                              440 entries are aged 16.46 - 24.65 years old\n",
    "                              484 patients being aged 24.66 - 33.84 years old,  \n",
    "                              597 patients being aged 33.85 - 41.04 years old, \n",
    "                              583 patients being aged 41.05 - 49.23 years old, \n",
    "                              686 patients being aged 49.24 - 57.42 years old,\n",
    "                              559 patients being aged 57.42 - 65.62 years old, \n",
    "                              407 patients being aged 65.62 - 73.81 years old, \n",
    "                              558 patients being aged 73.81 - 82 years old, "
   ]
  },
  {
   "cell_type": "markdown",
   "metadata": {},
   "source": [
    "The fourth feature is the **hypertension** feature. Hypertension, or high blood pressure, is a medical risk that could lead to stroke, and in the case of the dataset, is represented as a boolean feature with a binary value of either 1 or 0, with 1 signifiying that the patient has hypertension, and 0 signifying that the patient does not. 498 patients in the dataset have hypertension, while 4,612 patients do not have hypertension."
   ]
  },
  {
   "cell_type": "markdown",
   "metadata": {},
   "source": [
    "The fifth feature is the **heart_disease** feature. Heart diseases can become a medical risk that could lead to stroke, and in the case of the dataset, is represented as a boolean feature with a binary value of either 1 or 0, with 1 signifiying that the patient has a heart complication, and 0 signifying that the patient does not. 276 patients in the dataset have hypertension, while 4,834 patients do not have hypertension."
   ]
  },
  {
   "cell_type": "markdown",
   "metadata": {},
   "source": [
    "The sixth feature is the **ever_married** feature.This pertains to the martial status of the patient, with the patient either having been married or not.Martial Status has been stated to be a survival advantage for post-stroke survivors, as it gives off a protective effect for the survival of the afflicted(Liu,et al,2018). There are two labels for this feature, with the label *No* pertaining to not being married at any point in their lives and conributing to 1757 entries, and *yes* which pertains to having been married at some point, with the label being linked to 3353 entries."
   ]
  },
  {
   "cell_type": "markdown",
   "metadata": {},
   "source": [
    "The seventh feature is the **work_type**, which pertains to the work sector of the patient. there are five labels for this feature, namely *children in 687 entries*, *Govt_jov* in 657 entries, *Never_worked in 22 entries*, *Private* in 2925 entries, and *Self-employed* in 819 entries."
   ]
  },
  {
   "cell_type": "markdown",
   "metadata": {},
   "source": [
    "The eighth feature is the **Residence_type** Feature, which pertains to the Residential Type of the patient. Two labels are present in this dataset, with the first label *Urban* Attributing to 51% of the entries in the dataset, and *Rural* taking up the remaining 49%. A Study has stated that Rural counties have higher stroke rates than those from Urban Areas (Sealy-Jefferson et al. 2020)."
   ]
  },
  {
   "cell_type": "markdown",
   "metadata": {},
   "source": [
    " The ninth feature is the **avg_glucose_level** feature, which pertains to the average glucose level of the patient, with higher levels being more at risk with stroke. 559 out of the 5510 entries have higher than normal levels, while the rest have normal to low levels of glucose in their bodies."
   ]
  },
  {
   "cell_type": "markdown",
   "metadata": {},
   "source": [
    "The tenth feature is the **bmi** feature, which pertains to the body mass index of the individual. as each entry has feature different body mass indexes, there is a multitude of labels in the feature, with matching labels being more on coincidence. To note, out of the 5510 entries, roughly 4% have N/A as their BMI label."
   ]
  },
  {
   "cell_type": "markdown",
   "metadata": {},
   "source": [
    "The eleventh feature is the **smoking_status** feature, a feature that states whether the patient has smoked before or is currently smoking. There are four labels in the feature, the first label *never smoked* which means the patient has never smoked, and totals 1892 entries, the *formerly smoked* label which meanns that the patient has smmoked before but has since stopped, and totals 885 entries, the *smokes* label which signifies that the patient is currently smoking, totalling 789 entries, and the *Unknown* label, which means that it is not known whether he still smokes or not, and totals 1544 entries."
   ]
  },
  {
   "cell_type": "markdown",
   "metadata": {},
   "source": [
    "The twelfth and final feature is the stroke feautre, which pertains to whether or not the patient has had a stroke before. the values 1 and 0 are the labels, with 1 meaning that the patient has had a stroke before, and 0 meaning that the patient hasn't. 249 entries have a stroke label of 1, while 4861 labels have a label of 0."
   ]
  },
  {
   "cell_type": "markdown",
   "metadata": {},
   "source": [
    "An exploratory data analysis of the dataset can be found under the EDA section in the methodology."
   ]
  },
  {
   "cell_type": "markdown",
   "metadata": {},
   "source": [
    "# Methodology"
   ]
  },
  {
   "cell_type": "markdown",
   "metadata": {},
   "source": [
    "In this section, the dataset was imported as pandas dataframe. The dataframe was cleaned, utilized for EDA (for visualization purposes to get insights about the data), and then pre-processed for machine learning. After pre-processing (normalization of the data), the dataset is finally used for modelling. The modelling section contains six different machine learning models, and were evaluated using cross-validation."
   ]
  },
  {
   "cell_type": "markdown",
   "metadata": {},
   "source": [
    "## Importing libraries and data\n",
    "\n",
    "In this section, necessary libraries were imported. The dataset was also imported as dataframe."
   ]
  },
  {
   "cell_type": "code",
   "execution_count": 1,
   "metadata": {
    "scrolled": true
   },
   "outputs": [
    {
     "data": {
      "text/html": [
       "<div>\n",
       "<style scoped>\n",
       "    .dataframe tbody tr th:only-of-type {\n",
       "        vertical-align: middle;\n",
       "    }\n",
       "\n",
       "    .dataframe tbody tr th {\n",
       "        vertical-align: top;\n",
       "    }\n",
       "\n",
       "    .dataframe thead th {\n",
       "        text-align: right;\n",
       "    }\n",
       "</style>\n",
       "<table border=\"1\" class=\"dataframe\">\n",
       "  <thead>\n",
       "    <tr style=\"text-align: right;\">\n",
       "      <th></th>\n",
       "      <th>id</th>\n",
       "      <th>gender</th>\n",
       "      <th>age</th>\n",
       "      <th>hypertension</th>\n",
       "      <th>heart_disease</th>\n",
       "      <th>ever_married</th>\n",
       "      <th>work_type</th>\n",
       "      <th>Residence_type</th>\n",
       "      <th>avg_glucose_level</th>\n",
       "      <th>bmi</th>\n",
       "      <th>smoking_status</th>\n",
       "      <th>stroke</th>\n",
       "    </tr>\n",
       "  </thead>\n",
       "  <tbody>\n",
       "    <tr>\n",
       "      <th>0</th>\n",
       "      <td>9046</td>\n",
       "      <td>Male</td>\n",
       "      <td>67.0</td>\n",
       "      <td>0</td>\n",
       "      <td>1</td>\n",
       "      <td>Yes</td>\n",
       "      <td>Private</td>\n",
       "      <td>Urban</td>\n",
       "      <td>228.69</td>\n",
       "      <td>36.6</td>\n",
       "      <td>formerly smoked</td>\n",
       "      <td>1</td>\n",
       "    </tr>\n",
       "    <tr>\n",
       "      <th>1</th>\n",
       "      <td>51676</td>\n",
       "      <td>Female</td>\n",
       "      <td>61.0</td>\n",
       "      <td>0</td>\n",
       "      <td>0</td>\n",
       "      <td>Yes</td>\n",
       "      <td>Self-employed</td>\n",
       "      <td>Rural</td>\n",
       "      <td>202.21</td>\n",
       "      <td>NaN</td>\n",
       "      <td>never smoked</td>\n",
       "      <td>1</td>\n",
       "    </tr>\n",
       "    <tr>\n",
       "      <th>2</th>\n",
       "      <td>31112</td>\n",
       "      <td>Male</td>\n",
       "      <td>80.0</td>\n",
       "      <td>0</td>\n",
       "      <td>1</td>\n",
       "      <td>Yes</td>\n",
       "      <td>Private</td>\n",
       "      <td>Rural</td>\n",
       "      <td>105.92</td>\n",
       "      <td>32.5</td>\n",
       "      <td>never smoked</td>\n",
       "      <td>1</td>\n",
       "    </tr>\n",
       "  </tbody>\n",
       "</table>\n",
       "</div>"
      ],
      "text/plain": [
       "      id  gender   age  hypertension  heart_disease ever_married  \\\n",
       "0   9046    Male  67.0             0              1          Yes   \n",
       "1  51676  Female  61.0             0              0          Yes   \n",
       "2  31112    Male  80.0             0              1          Yes   \n",
       "\n",
       "       work_type Residence_type  avg_glucose_level   bmi   smoking_status  \\\n",
       "0        Private          Urban             228.69  36.6  formerly smoked   \n",
       "1  Self-employed          Rural             202.21   NaN     never smoked   \n",
       "2        Private          Rural             105.92  32.5     never smoked   \n",
       "\n",
       "   stroke  \n",
       "0       1  \n",
       "1       1  \n",
       "2       1  "
      ]
     },
     "execution_count": 1,
     "metadata": {},
     "output_type": "execute_result"
    }
   ],
   "source": [
    "import numpy as np\n",
    "import pandas as pd\n",
    "import matplotlib.pyplot as plt\n",
    "import seaborn as sns\n",
    "from sklearn.preprocessing import LabelEncoder\n",
    "%matplotlib inline\n",
    "from sklearn.preprocessing import StandardScaler\n",
    "import warnings\n",
    "from sklearn.model_selection import cross_val_score\n",
    "from sklearn.model_selection import train_test_split\n",
    "from sklearn.tree import DecisionTreeClassifier\n",
    "from sklearn.linear_model import LogisticRegression\n",
    "from sklearn.svm import SVC\n",
    "from sklearn.neighbors import KNeighborsClassifier\n",
    "from sklearn.naive_bayes import GaussianNB\n",
    "from sklearn.cluster import KMeans\n",
    "from sklearn.metrics import confusion_matrix, accuracy_score, classification_report\n",
    "warnings.filterwarnings(action='ignore')\n",
    "data = pd.read_csv('stroke-dataset.csv')\n",
    "data.head(3)"
   ]
  },
  {
   "cell_type": "markdown",
   "metadata": {},
   "source": [
    "## Data Cleaning\n",
    "\n",
    "This section covers data cleaning. Observations with null and irregular values were cleaned accordingly."
   ]
  },
  {
   "cell_type": "code",
   "execution_count": 2,
   "metadata": {},
   "outputs": [
    {
     "name": "stdout",
     "output_type": "stream",
     "text": [
      "Row Count: 5110\n",
      "Column Count: 12\n"
     ]
    }
   ],
   "source": [
    "data_row_count, data_column_count = data.shape\n",
    "print('Row Count:', data_row_count)\n",
    "print('Column Count:', data_column_count)"
   ]
  },
  {
   "cell_type": "code",
   "execution_count": 3,
   "metadata": {},
   "outputs": [
    {
     "name": "stdout",
     "output_type": "stream",
     "text": [
      "<class 'pandas.core.frame.DataFrame'>\n",
      "RangeIndex: 5110 entries, 0 to 5109\n",
      "Data columns (total 12 columns):\n",
      " #   Column             Non-Null Count  Dtype  \n",
      "---  ------             --------------  -----  \n",
      " 0   id                 5110 non-null   int64  \n",
      " 1   gender             5110 non-null   object \n",
      " 2   age                5110 non-null   float64\n",
      " 3   hypertension       5110 non-null   int64  \n",
      " 4   heart_disease      5110 non-null   int64  \n",
      " 5   ever_married       5110 non-null   object \n",
      " 6   work_type          5110 non-null   object \n",
      " 7   Residence_type     5110 non-null   object \n",
      " 8   avg_glucose_level  5110 non-null   float64\n",
      " 9   bmi                4909 non-null   float64\n",
      " 10  smoking_status     5110 non-null   object \n",
      " 11  stroke             5110 non-null   int64  \n",
      "dtypes: float64(3), int64(4), object(5)\n",
      "memory usage: 479.2+ KB\n"
     ]
    }
   ],
   "source": [
    "data.info()"
   ]
  },
  {
   "cell_type": "markdown",
   "metadata": {},
   "source": [
    "Based on the dataframe information, 201 observations have null value for the 'bmi' feature. In order to clean this data, the mean value for 'bmi' in the dataset was used to replace the null values. "
   ]
  },
  {
   "cell_type": "code",
   "execution_count": 4,
   "metadata": {},
   "outputs": [
    {
     "name": "stdout",
     "output_type": "stream",
     "text": [
      "<class 'pandas.core.frame.DataFrame'>\n",
      "RangeIndex: 5110 entries, 0 to 5109\n",
      "Data columns (total 12 columns):\n",
      " #   Column             Non-Null Count  Dtype  \n",
      "---  ------             --------------  -----  \n",
      " 0   id                 5110 non-null   int64  \n",
      " 1   gender             5110 non-null   object \n",
      " 2   age                5110 non-null   float64\n",
      " 3   hypertension       5110 non-null   int64  \n",
      " 4   heart_disease      5110 non-null   int64  \n",
      " 5   ever_married       5110 non-null   object \n",
      " 6   work_type          5110 non-null   object \n",
      " 7   Residence_type     5110 non-null   object \n",
      " 8   avg_glucose_level  5110 non-null   float64\n",
      " 9   bmi                5110 non-null   float64\n",
      " 10  smoking_status     5110 non-null   object \n",
      " 11  stroke             5110 non-null   int64  \n",
      "dtypes: float64(3), int64(4), object(5)\n",
      "memory usage: 479.2+ KB\n"
     ]
    }
   ],
   "source": [
    "data['bmi'] = data['bmi'].fillna(data['bmi'].mean())\n",
    "data.info()"
   ]
  },
  {
   "cell_type": "code",
   "execution_count": 5,
   "metadata": {},
   "outputs": [
    {
     "data": {
      "text/plain": [
       "5110"
      ]
     },
     "execution_count": 5,
     "metadata": {},
     "output_type": "execute_result"
    }
   ],
   "source": [
    "data.id.nunique()"
   ]
  },
  {
   "cell_type": "markdown",
   "metadata": {},
   "source": [
    "The feature 'id' is irrelevant in machine learning."
   ]
  },
  {
   "cell_type": "code",
   "execution_count": 6,
   "metadata": {},
   "outputs": [
    {
     "data": {
      "text/plain": [
       "(5110, 11)"
      ]
     },
     "execution_count": 6,
     "metadata": {},
     "output_type": "execute_result"
    }
   ],
   "source": [
    "data = data.drop(columns ='id')\n",
    "data.shape"
   ]
  },
  {
   "cell_type": "code",
   "execution_count": 7,
   "metadata": {},
   "outputs": [
    {
     "data": {
      "text/plain": [
       "Female    2994\n",
       "Male      2115\n",
       "Other        1\n",
       "Name: gender, dtype: int64"
      ]
     },
     "execution_count": 7,
     "metadata": {},
     "output_type": "execute_result"
    }
   ],
   "source": [
    "data.gender.value_counts()"
   ]
  },
  {
   "cell_type": "markdown",
   "metadata": {},
   "source": [
    "Since there is only one observation with irregular value for 'gender' feature, the value is replaced with the most occuring value in the dataset."
   ]
  },
  {
   "cell_type": "code",
   "execution_count": 8,
   "metadata": {},
   "outputs": [
    {
     "data": {
      "text/plain": [
       "Female    2995\n",
       "Male      2115\n",
       "Name: gender, dtype: int64"
      ]
     },
     "execution_count": 8,
     "metadata": {},
     "output_type": "execute_result"
    }
   ],
   "source": [
    "data['gender'] = data['gender'].replace('Other', list(data.gender.mode().values)[0])\n",
    "data.gender.value_counts()"
   ]
  },
  {
   "cell_type": "markdown",
   "metadata": {},
   "source": [
    "## EDA\n",
    "\n",
    "This section covers the exploratory data analysis of the stroke prediction dataset. In this section, visualization of features and labels is performed in order to have a clear understanding on the dataset and to gather insight on the relationship between the features. \n",
    "\n",
    "The key findings from the visualization of the dataset include the relatively few entries in the dataset that have actually experienced a stroke. Furthermore, married patients are more likely to have a stroke than unmarried ones, and those with heart complications suffer more risk as well.Additionally, private sector employees encounter more stroke incidents than the other options available, and that smokers, whether current or former, are more at risk than those who have not."
   ]
  },
  {
   "cell_type": "code",
   "execution_count": 9,
   "metadata": {},
   "outputs": [
    {
     "data": {
      "image/png": "[encoded data removed]",
      "text/plain": [
       "<Figure size 1008x1440 with 8 Axes>"
      ]
     },
     "metadata": {
      "needs_background": "light"
     },
     "output_type": "display_data"
    }
   ],
   "source": [
    "df_cat = ['gender','hypertension','heart_disease','ever_married','work_type','Residence_type','smoking_status', 'stroke']\n",
    "\n",
    "fig, axs = plt.subplots(4, 2, figsize=(14,20))\n",
    "axs = axs.flatten()\n",
    "\n",
    "for i, col_name in enumerate(df_cat):\n",
    "    sns.countplot(x=col_name, data=data, ax=axs[i], hue =data['stroke'], palette = 'flare')\n",
    "    plt.title(\"Bar chart of\")\n",
    "    axs[i].set_xlabel(f\"{col_name}\", weight = 'bold')\n",
    "    axs[i].set_ylabel('Count', weight='bold')"
   ]
  },
  {
   "cell_type": "markdown",
   "metadata": {},
   "source": [
    "From the bar chart, the values for residence type and gender has almost no difference when it comes to determining stroke if a patient has experienced stroke. However, in the work type feature, it is observed that a large number of people who have never worked (or children) have never experienced stroke , and as their work becomes more privatized the number of people who have experienced a stroke increases (from government job, to self employed, to private work type in increasing order). It is also found that more married people (or have been married) have experienced a stroke compared to single people, the same goes for those with heart disease and hypertension. "
   ]
  },
  {
   "cell_type": "code",
   "execution_count": 10,
   "metadata": {},
   "outputs": [
    {
     "data": {
      "image/png": "[encoded data removed]",
      "text/plain": [
       "<Figure size 1152x360 with 3 Axes>"
      ]
     },
     "metadata": {
      "needs_background": "light"
     },
     "output_type": "display_data"
    }
   ],
   "source": [
    "df_num = ['age', 'avg_glucose_level', 'bmi']\n",
    "\n",
    "fig, axs = plt.subplots(1, 3, figsize=(16,5))\n",
    "axs = axs.flatten()\n",
    "\n",
    "# iterate through each column in df_num and plot\n",
    "for i, col_name in enumerate(df_num):\n",
    "    sns.boxplot(x=\"stroke\", y=col_name, data=data, ax=axs[i],  palette = 'Set1')\n",
    "    axs[i].set_xlabel(\"Stroke\", weight = 'bold')\n",
    "    axs[i].set_ylabel(f\"{col_name}\", weight='bold')"
   ]
  },
  {
   "cell_type": "markdown",
   "metadata": {},
   "source": [
    "Based on the boxplot, there are outliers that exists outliers in the bmi feature commonly found above the value of 50. "
   ]
  },
  {
   "cell_type": "code",
   "execution_count": 11,
   "metadata": {},
   "outputs": [
    {
     "data": {
      "text/plain": [
       "(79,)"
      ]
     },
     "execution_count": 11,
     "metadata": {},
     "output_type": "execute_result"
    }
   ],
   "source": [
    "bmi_outliers=data.loc[data['bmi']>50]\n",
    "bmi_outliers['bmi'].shape"
   ]
  },
  {
   "cell_type": "markdown",
   "metadata": {},
   "source": [
    "There are 79 people with BMI higher than 50."
   ]
  },
  {
   "cell_type": "markdown",
   "metadata": {},
   "source": [
    "As bmi higher than 50 is abnormal (morbidly obese), the value will be capped at 50."
   ]
  },
  {
   "cell_type": "code",
   "execution_count": 12,
   "metadata": {},
   "outputs": [],
   "source": [
    "#I set all of them to 50 to make sure no much outlining in the dataset\n",
    "data[\"bmi\"] = pd.to_numeric(data[\"bmi\"])\n",
    "data[\"bmi\"] = data[\"bmi\"].apply(lambda x: 50 if x>50 else x)"
   ]
  },
  {
   "cell_type": "code",
   "execution_count": 13,
   "metadata": {},
   "outputs": [
    {
     "data": {
      "image/png": "[encoded data removed]",
      "text/plain": [
       "<Figure size 432x288 with 1 Axes>"
      ]
     },
     "metadata": {
      "needs_background": "light"
     },
     "output_type": "display_data"
    }
   ],
   "source": [
    "sns.boxplot(data=data,x=data[\"bmi\"],color='green')\n",
    "plt.title(\"Boxplot of BMI Distribution\");"
   ]
  },
  {
   "cell_type": "markdown",
   "metadata": {},
   "source": [
    "In the new distribution, the outliers are no longer far from the interquartile range of the bmi feature values."
   ]
  },
  {
   "cell_type": "code",
   "execution_count": 14,
   "metadata": {},
   "outputs": [
    {
     "data": {
      "image/png": "[encoded data removed]",
      "text/plain": [
       "<Figure size 288x288 with 1 Axes>"
      ]
     },
     "metadata": {},
     "output_type": "display_data"
    }
   ],
   "source": [
    "plt.figure(figsize=(4,4))\n",
    "data['stroke'].value_counts().plot.pie(autopct='%1.1f%%', colors = ['#99ff99','#FF0000'])\n",
    "plt.title(\"Pie Chart of Stroke Status\", fontdict={'fontsize': 14})\n",
    "plt.tight_layout()"
   ]
  },
  {
   "cell_type": "markdown",
   "metadata": {},
   "source": [
    "Out of the overall 5110 observations in the dataset, only 4.9% of the patients have experienced a stroke. The remaining 95.1% have never experienced stroke."
   ]
  },
  {
   "cell_type": "markdown",
   "metadata": {},
   "source": [
    "Transform the data, and construct a heatmap. This is to find which features to drop due to it likely being biased."
   ]
  },
  {
   "cell_type": "code",
   "execution_count": 15,
   "metadata": {},
   "outputs": [
    {
     "data": {
      "text/html": [
       "<div>\n",
       "<style scoped>\n",
       "    .dataframe tbody tr th:only-of-type {\n",
       "        vertical-align: middle;\n",
       "    }\n",
       "\n",
       "    .dataframe tbody tr th {\n",
       "        vertical-align: top;\n",
       "    }\n",
       "\n",
       "    .dataframe thead th {\n",
       "        text-align: right;\n",
       "    }\n",
       "</style>\n",
       "<table border=\"1\" class=\"dataframe\">\n",
       "  <thead>\n",
       "    <tr style=\"text-align: right;\">\n",
       "      <th></th>\n",
       "      <th>gender</th>\n",
       "      <th>age</th>\n",
       "      <th>hypertension</th>\n",
       "      <th>heart_disease</th>\n",
       "      <th>ever_married</th>\n",
       "      <th>work_type</th>\n",
       "      <th>Residence_type</th>\n",
       "      <th>avg_glucose_level</th>\n",
       "      <th>bmi</th>\n",
       "      <th>smoking_status</th>\n",
       "      <th>stroke</th>\n",
       "    </tr>\n",
       "  </thead>\n",
       "  <tbody>\n",
       "    <tr>\n",
       "      <th>0</th>\n",
       "      <td>1</td>\n",
       "      <td>67.0</td>\n",
       "      <td>0</td>\n",
       "      <td>1</td>\n",
       "      <td>1</td>\n",
       "      <td>2</td>\n",
       "      <td>1</td>\n",
       "      <td>228.69</td>\n",
       "      <td>36.600000</td>\n",
       "      <td>1</td>\n",
       "      <td>1</td>\n",
       "    </tr>\n",
       "    <tr>\n",
       "      <th>1</th>\n",
       "      <td>0</td>\n",
       "      <td>61.0</td>\n",
       "      <td>0</td>\n",
       "      <td>0</td>\n",
       "      <td>1</td>\n",
       "      <td>3</td>\n",
       "      <td>0</td>\n",
       "      <td>202.21</td>\n",
       "      <td>28.893237</td>\n",
       "      <td>2</td>\n",
       "      <td>1</td>\n",
       "    </tr>\n",
       "    <tr>\n",
       "      <th>2</th>\n",
       "      <td>1</td>\n",
       "      <td>80.0</td>\n",
       "      <td>0</td>\n",
       "      <td>1</td>\n",
       "      <td>1</td>\n",
       "      <td>2</td>\n",
       "      <td>0</td>\n",
       "      <td>105.92</td>\n",
       "      <td>32.500000</td>\n",
       "      <td>2</td>\n",
       "      <td>1</td>\n",
       "    </tr>\n",
       "    <tr>\n",
       "      <th>3</th>\n",
       "      <td>0</td>\n",
       "      <td>49.0</td>\n",
       "      <td>0</td>\n",
       "      <td>0</td>\n",
       "      <td>1</td>\n",
       "      <td>2</td>\n",
       "      <td>1</td>\n",
       "      <td>171.23</td>\n",
       "      <td>34.400000</td>\n",
       "      <td>3</td>\n",
       "      <td>1</td>\n",
       "    </tr>\n",
       "    <tr>\n",
       "      <th>4</th>\n",
       "      <td>0</td>\n",
       "      <td>79.0</td>\n",
       "      <td>1</td>\n",
       "      <td>0</td>\n",
       "      <td>1</td>\n",
       "      <td>3</td>\n",
       "      <td>0</td>\n",
       "      <td>174.12</td>\n",
       "      <td>24.000000</td>\n",
       "      <td>2</td>\n",
       "      <td>1</td>\n",
       "    </tr>\n",
       "  </tbody>\n",
       "</table>\n",
       "</div>"
      ],
      "text/plain": [
       "   gender   age  hypertension  heart_disease  ever_married  work_type  \\\n",
       "0       1  67.0             0              1             1          2   \n",
       "1       0  61.0             0              0             1          3   \n",
       "2       1  80.0             0              1             1          2   \n",
       "3       0  49.0             0              0             1          2   \n",
       "4       0  79.0             1              0             1          3   \n",
       "\n",
       "   Residence_type  avg_glucose_level        bmi  smoking_status  stroke  \n",
       "0               1             228.69  36.600000               1       1  \n",
       "1               0             202.21  28.893237               2       1  \n",
       "2               0             105.92  32.500000               2       1  \n",
       "3               1             171.23  34.400000               3       1  \n",
       "4               0             174.12  24.000000               2       1  "
      ]
     },
     "execution_count": 15,
     "metadata": {},
     "output_type": "execute_result"
    }
   ],
   "source": [
    "le = LabelEncoder()\n",
    "\n",
    "data['gender'] = le.fit_transform(data['gender'])\n",
    "data['ever_married'] = le.fit_transform(data['ever_married'])\n",
    "data['work_type'] = le.fit_transform(data['work_type'])\n",
    "data['Residence_type'] = le.fit_transform(data['Residence_type'])\n",
    "data['smoking_status'] = le.fit_transform(data['smoking_status'])\n",
    "\n",
    "df_en = data\n",
    "df_en.head()"
   ]
  },
  {
   "cell_type": "code",
   "execution_count": 16,
   "metadata": {},
   "outputs": [
    {
     "data": {
      "image/png": "[encoded data removed]",
      "text/plain": [
       "<Figure size 720x504 with 2 Axes>"
      ]
     },
     "metadata": {
      "needs_background": "light"
     },
     "output_type": "display_data"
    }
   ],
   "source": [
    "corr = df_en.corr().round(2)\n",
    "plt.figure(figsize=(10,7))\n",
    "sns.heatmap(corr, annot = True, cmap = 'YlGnBu');"
   ]
  },
  {
   "cell_type": "markdown",
   "metadata": {},
   "source": [
    "The **ever_married** feature was dropped, due to a study in 2018 stating martial status as a survival advantage for stroke afflicted patients (Liu et.al,2018), which shows the effects of martial status being post-stroke rather than as a pre-risk to having stroke. "
   ]
  },
  {
   "cell_type": "markdown",
   "metadata": {},
   "source": [
    "The features **age** and **ever_married** is observed to have multicollinearity. Including both these features would result in a bias. In this case, it was decided that it would be best to drop the **ever_married** feature due to the reasons stated above. "
   ]
  },
  {
   "cell_type": "code",
   "execution_count": 17,
   "metadata": {},
   "outputs": [
    {
     "data": {
      "text/html": [
       "<div>\n",
       "<style scoped>\n",
       "    .dataframe tbody tr th:only-of-type {\n",
       "        vertical-align: middle;\n",
       "    }\n",
       "\n",
       "    .dataframe tbody tr th {\n",
       "        vertical-align: top;\n",
       "    }\n",
       "\n",
       "    .dataframe thead th {\n",
       "        text-align: right;\n",
       "    }\n",
       "</style>\n",
       "<table border=\"1\" class=\"dataframe\">\n",
       "  <thead>\n",
       "    <tr style=\"text-align: right;\">\n",
       "      <th></th>\n",
       "      <th>gender</th>\n",
       "      <th>age</th>\n",
       "      <th>hypertension</th>\n",
       "      <th>heart_disease</th>\n",
       "      <th>work_type</th>\n",
       "      <th>Residence_type</th>\n",
       "      <th>avg_glucose_level</th>\n",
       "      <th>bmi</th>\n",
       "      <th>smoking_status</th>\n",
       "      <th>stroke</th>\n",
       "    </tr>\n",
       "  </thead>\n",
       "  <tbody>\n",
       "    <tr>\n",
       "      <th>0</th>\n",
       "      <td>1</td>\n",
       "      <td>67.0</td>\n",
       "      <td>0</td>\n",
       "      <td>1</td>\n",
       "      <td>2</td>\n",
       "      <td>1</td>\n",
       "      <td>228.69</td>\n",
       "      <td>36.600000</td>\n",
       "      <td>1</td>\n",
       "      <td>1</td>\n",
       "    </tr>\n",
       "    <tr>\n",
       "      <th>1</th>\n",
       "      <td>0</td>\n",
       "      <td>61.0</td>\n",
       "      <td>0</td>\n",
       "      <td>0</td>\n",
       "      <td>3</td>\n",
       "      <td>0</td>\n",
       "      <td>202.21</td>\n",
       "      <td>28.893237</td>\n",
       "      <td>2</td>\n",
       "      <td>1</td>\n",
       "    </tr>\n",
       "    <tr>\n",
       "      <th>2</th>\n",
       "      <td>1</td>\n",
       "      <td>80.0</td>\n",
       "      <td>0</td>\n",
       "      <td>1</td>\n",
       "      <td>2</td>\n",
       "      <td>0</td>\n",
       "      <td>105.92</td>\n",
       "      <td>32.500000</td>\n",
       "      <td>2</td>\n",
       "      <td>1</td>\n",
       "    </tr>\n",
       "  </tbody>\n",
       "</table>\n",
       "</div>"
      ],
      "text/plain": [
       "   gender   age  hypertension  heart_disease  work_type  Residence_type  \\\n",
       "0       1  67.0             0              1          2               1   \n",
       "1       0  61.0             0              0          3               0   \n",
       "2       1  80.0             0              1          2               0   \n",
       "\n",
       "   avg_glucose_level        bmi  smoking_status  stroke  \n",
       "0             228.69  36.600000               1       1  \n",
       "1             202.21  28.893237               2       1  \n",
       "2             105.92  32.500000               2       1  "
      ]
     },
     "execution_count": 17,
     "metadata": {},
     "output_type": "execute_result"
    }
   ],
   "source": [
    "df_en = df_en.drop(['ever_married'], axis = 1)\n",
    "df_en.head(3)"
   ]
  },
  {
   "cell_type": "markdown",
   "metadata": {},
   "source": [
    "In this part of the notebook, normalization of the data is performed. This is necessary because the data values in the datasets are too different from one another (bmi has different range of values than avg_glucose_level and age) to prevent overfitting."
   ]
  },
  {
   "cell_type": "code",
   "execution_count": 18,
   "metadata": {},
   "outputs": [
    {
     "data": {
      "text/html": [
       "<div>\n",
       "<style scoped>\n",
       "    .dataframe tbody tr th:only-of-type {\n",
       "        vertical-align: middle;\n",
       "    }\n",
       "\n",
       "    .dataframe tbody tr th {\n",
       "        vertical-align: top;\n",
       "    }\n",
       "\n",
       "    .dataframe thead th {\n",
       "        text-align: right;\n",
       "    }\n",
       "</style>\n",
       "<table border=\"1\" class=\"dataframe\">\n",
       "  <thead>\n",
       "    <tr style=\"text-align: right;\">\n",
       "      <th></th>\n",
       "      <th>avg_glucose_level</th>\n",
       "      <th>bmi</th>\n",
       "      <th>age</th>\n",
       "    </tr>\n",
       "  </thead>\n",
       "  <tbody>\n",
       "    <tr>\n",
       "      <th>0</th>\n",
       "      <td>2.706375</td>\n",
       "      <td>1.066746</td>\n",
       "      <td>1.051434</td>\n",
       "    </tr>\n",
       "    <tr>\n",
       "      <th>1</th>\n",
       "      <td>2.121559</td>\n",
       "      <td>0.013363</td>\n",
       "      <td>0.786070</td>\n",
       "    </tr>\n",
       "    <tr>\n",
       "      <th>2</th>\n",
       "      <td>-0.005028</td>\n",
       "      <td>0.506346</td>\n",
       "      <td>1.626390</td>\n",
       "    </tr>\n",
       "    <tr>\n",
       "      <th>3</th>\n",
       "      <td>1.437358</td>\n",
       "      <td>0.766044</td>\n",
       "      <td>0.255342</td>\n",
       "    </tr>\n",
       "    <tr>\n",
       "      <th>4</th>\n",
       "      <td>1.501184</td>\n",
       "      <td>-0.655458</td>\n",
       "      <td>1.582163</td>\n",
       "    </tr>\n",
       "  </tbody>\n",
       "</table>\n",
       "</div>"
      ],
      "text/plain": [
       "   avg_glucose_level       bmi       age\n",
       "0           2.706375  1.066746  1.051434\n",
       "1           2.121559  0.013363  0.786070\n",
       "2          -0.005028  0.506346  1.626390\n",
       "3           1.437358  0.766044  0.255342\n",
       "4           1.501184 -0.655458  1.582163"
      ]
     },
     "execution_count": 18,
     "metadata": {},
     "output_type": "execute_result"
    }
   ],
   "source": [
    "\n",
    "s = StandardScaler()\n",
    "columns = ['avg_glucose_level','bmi','age']\n",
    "stand_scaled = s.fit_transform(df_en[['avg_glucose_level','bmi','age']])\n",
    "stand_scaled = pd.DataFrame(stand_scaled,columns=columns)\n",
    "\n",
    "df_en=df_en.drop(columns=columns,axis=1)\n",
    "stand_scaled.head()"
   ]
  },
  {
   "cell_type": "markdown",
   "metadata": {},
   "source": [
    "Add the normalized data features to the dataset."
   ]
  },
  {
   "cell_type": "code",
   "execution_count": 19,
   "metadata": {},
   "outputs": [
    {
     "data": {
      "text/html": [
       "<div>\n",
       "<style scoped>\n",
       "    .dataframe tbody tr th:only-of-type {\n",
       "        vertical-align: middle;\n",
       "    }\n",
       "\n",
       "    .dataframe tbody tr th {\n",
       "        vertical-align: top;\n",
       "    }\n",
       "\n",
       "    .dataframe thead th {\n",
       "        text-align: right;\n",
       "    }\n",
       "</style>\n",
       "<table border=\"1\" class=\"dataframe\">\n",
       "  <thead>\n",
       "    <tr style=\"text-align: right;\">\n",
       "      <th></th>\n",
       "      <th>gender</th>\n",
       "      <th>hypertension</th>\n",
       "      <th>heart_disease</th>\n",
       "      <th>work_type</th>\n",
       "      <th>Residence_type</th>\n",
       "      <th>smoking_status</th>\n",
       "      <th>stroke</th>\n",
       "      <th>avg_glucose_level</th>\n",
       "      <th>bmi</th>\n",
       "      <th>age</th>\n",
       "    </tr>\n",
       "  </thead>\n",
       "  <tbody>\n",
       "    <tr>\n",
       "      <th>0</th>\n",
       "      <td>1</td>\n",
       "      <td>0</td>\n",
       "      <td>1</td>\n",
       "      <td>2</td>\n",
       "      <td>1</td>\n",
       "      <td>1</td>\n",
       "      <td>1</td>\n",
       "      <td>2.706375</td>\n",
       "      <td>1.066746</td>\n",
       "      <td>1.051434</td>\n",
       "    </tr>\n",
       "    <tr>\n",
       "      <th>1</th>\n",
       "      <td>0</td>\n",
       "      <td>0</td>\n",
       "      <td>0</td>\n",
       "      <td>3</td>\n",
       "      <td>0</td>\n",
       "      <td>2</td>\n",
       "      <td>1</td>\n",
       "      <td>2.121559</td>\n",
       "      <td>0.013363</td>\n",
       "      <td>0.786070</td>\n",
       "    </tr>\n",
       "    <tr>\n",
       "      <th>2</th>\n",
       "      <td>1</td>\n",
       "      <td>0</td>\n",
       "      <td>1</td>\n",
       "      <td>2</td>\n",
       "      <td>0</td>\n",
       "      <td>2</td>\n",
       "      <td>1</td>\n",
       "      <td>-0.005028</td>\n",
       "      <td>0.506346</td>\n",
       "      <td>1.626390</td>\n",
       "    </tr>\n",
       "  </tbody>\n",
       "</table>\n",
       "</div>"
      ],
      "text/plain": [
       "   gender  hypertension  heart_disease  work_type  Residence_type  \\\n",
       "0       1             0              1          2               1   \n",
       "1       0             0              0          3               0   \n",
       "2       1             0              1          2               0   \n",
       "\n",
       "   smoking_status  stroke  avg_glucose_level       bmi       age  \n",
       "0               1       1           2.706375  1.066746  1.051434  \n",
       "1               2       1           2.121559  0.013363  0.786070  \n",
       "2               2       1          -0.005028  0.506346  1.626390  "
      ]
     },
     "execution_count": 19,
     "metadata": {},
     "output_type": "execute_result"
    }
   ],
   "source": [
    "df = pd.concat([df_en, stand_scaled], axis=1)\n",
    "df.head(3)"
   ]
  },
  {
   "cell_type": "markdown",
   "metadata": {},
   "source": [
    "## Modelling\n",
    "\n",
    "In this section, modelling is done."
   ]
  },
  {
   "cell_type": "code",
   "execution_count": 20,
   "metadata": {},
   "outputs": [],
   "source": [
    "x=df.drop(['stroke'], axis=1)\n",
    "y=df['stroke']\n",
    "x_train, x_test, y_train, y_test = train_test_split(x, y, test_size=0.3, random_state= 124)"
   ]
  },
  {
   "cell_type": "code",
   "execution_count": 21,
   "metadata": {},
   "outputs": [
    {
     "name": "stdout",
     "output_type": "stream",
     "text": [
      "Decision Tree fitting done\n",
      "Logreg fitting done\n",
      "Support Vector Machine fitting done\n",
      "kNN fitting done\n",
      "Naive Bayes fitting done\n",
      "KMeans fitting done\n"
     ]
    }
   ],
   "source": [
    "models = dict()\n",
    "models['Decision Tree'] = DecisionTreeClassifier()\n",
    "models['Logreg'] = LogisticRegression()\n",
    "models['Support Vector Machine'] = SVC(kernel = 'sigmoid', gamma='scale')\n",
    "models['kNN'] = KNeighborsClassifier()\n",
    "models['Naive Bayes'] = GaussianNB()\n",
    "models['KMeans'] = KMeans(n_clusters=2, n_init=10, random_state=42)\n",
    "\n",
    "for model in models:\n",
    "    models[model].fit(x_train, y_train)\n",
    "    print(model + \" fitting done\")\n"
   ]
  },
  {
   "cell_type": "code",
   "execution_count": 22,
   "metadata": {},
   "outputs": [
    {
     "name": "stdout",
     "output_type": "stream",
     "text": [
      "Test Set Prediction:\n",
      "\n",
      "--------------------Decision Tree--------------------\n",
      "[[1397   67]\n",
      " [  62    7]]\n",
      "              precision    recall  f1-score   support\n",
      "\n",
      "           0       0.96      0.95      0.96      1464\n",
      "           1       0.09      0.10      0.10        69\n",
      "\n",
      "    accuracy                           0.92      1533\n",
      "   macro avg       0.53      0.53      0.53      1533\n",
      "weighted avg       0.92      0.92      0.92      1533\n",
      "\n",
      "--------------------Logreg--------------------\n",
      "[[1464    0]\n",
      " [  69    0]]\n",
      "              precision    recall  f1-score   support\n",
      "\n",
      "           0       0.95      1.00      0.98      1464\n",
      "           1       0.00      0.00      0.00        69\n",
      "\n",
      "    accuracy                           0.95      1533\n",
      "   macro avg       0.48      0.50      0.49      1533\n",
      "weighted avg       0.91      0.95      0.93      1533\n",
      "\n",
      "--------------------Support Vector Machine--------------------\n",
      "[[1412   52]\n",
      " [  64    5]]\n",
      "              precision    recall  f1-score   support\n",
      "\n",
      "           0       0.96      0.96      0.96      1464\n",
      "           1       0.09      0.07      0.08        69\n",
      "\n",
      "    accuracy                           0.92      1533\n",
      "   macro avg       0.52      0.52      0.52      1533\n",
      "weighted avg       0.92      0.92      0.92      1533\n",
      "\n",
      "--------------------kNN--------------------\n",
      "[[1457    7]\n",
      " [  66    3]]\n",
      "              precision    recall  f1-score   support\n",
      "\n",
      "           0       0.96      1.00      0.98      1464\n",
      "           1       0.30      0.04      0.08        69\n",
      "\n",
      "    accuracy                           0.95      1533\n",
      "   macro avg       0.63      0.52      0.53      1533\n",
      "weighted avg       0.93      0.95      0.94      1533\n",
      "\n",
      "--------------------Naive Bayes--------------------\n",
      "[[1310  154]\n",
      " [  41   28]]\n",
      "              precision    recall  f1-score   support\n",
      "\n",
      "           0       0.97      0.89      0.93      1464\n",
      "           1       0.15      0.41      0.22        69\n",
      "\n",
      "    accuracy                           0.87      1533\n",
      "   macro avg       0.56      0.65      0.58      1533\n",
      "weighted avg       0.93      0.87      0.90      1533\n",
      "\n",
      "--------------------KMeans--------------------\n",
      "[[ 266 1198]\n",
      " [   2   67]]\n",
      "              precision    recall  f1-score   support\n",
      "\n",
      "           0       0.99      0.18      0.31      1464\n",
      "           1       0.05      0.97      0.10        69\n",
      "\n",
      "    accuracy                           0.22      1533\n",
      "   macro avg       0.52      0.58      0.20      1533\n",
      "weighted avg       0.95      0.22      0.30      1533\n",
      "\n",
      "done predicting\n"
     ]
    }
   ],
   "source": [
    "print(\"Test Set Prediction:\\n\")\n",
    "\n",
    "for x in models:\n",
    "\n",
    "    print('-'*20+x+'-'*20)\n",
    "    model = models[x]\n",
    "    y_pred = model.predict(x_test)\n",
    "    arg_test = {'y_true':y_test, 'y_pred':y_pred}\n",
    "    print(confusion_matrix(**arg_test))\n",
    "    print(classification_report(**arg_test))\n",
    "\n",
    "print(\"done predicting\")"
   ]
  },
  {
   "cell_type": "code",
   "execution_count": 23,
   "metadata": {},
   "outputs": [
    {
     "name": "stdout",
     "output_type": "stream",
     "text": [
      "Summary of Accuracy Score\n",
      "\n",
      "\n",
      "Decision Tree Model:  0.9159\n",
      "Logreg Model:  0.955\n",
      "Support Vector Machine Model:  0.9243\n",
      "kNN Model:  0.9524\n",
      "Naive Bayes Model:  0.8728\n",
      "KMeans Model:  0.2172\n"
     ]
    }
   ],
   "source": [
    "print('Summary of Accuracy Score\\n\\n')\n",
    "for i in models:\n",
    "    model = models[i]\n",
    "    print(i + ' Model: ',accuracy_score(y_test, model.predict(x_test)).round(4))"
   ]
  },
  {
   "cell_type": "markdown",
   "metadata": {},
   "source": [
    "## Cross Validation"
   ]
  },
  {
   "cell_type": "markdown",
   "metadata": {},
   "source": [
    "Cross validation is provided here to see the performance"
   ]
  },
  {
   "cell_type": "code",
   "execution_count": 24,
   "metadata": {},
   "outputs": [
    {
     "name": "stdout",
     "output_type": "stream",
     "text": [
      "done predicting\n",
      "Cross-validation scores:[0.91213389 0.90376569 0.90794979 0.91631799 0.91213389 0.90794979\n",
      " 0.92887029 0.89915966 0.89495798 0.90756303 0.88655462 0.92016807\n",
      " 0.89915966 0.89915966 0.92857143]\n",
      "Cross-validation scores:[0.94979079 0.94979079 0.94979079 0.9539749  0.94979079 0.94979079\n",
      " 0.94979079 0.94957983 0.94957983 0.94957983 0.94957983 0.94957983\n",
      " 0.94957983 0.94957983 0.94957983]\n",
      "Cross-validation scores:[0.92887029 0.94560669 0.91631799 0.90794979 0.90794979 0.92887029\n",
      " 0.92050209 0.94117647 0.91596639 0.91176471 0.92436975 0.92016807\n",
      " 0.93277311 0.91176471 0.91596639]\n",
      "Cross-validation scores:[0.94979079 0.94560669 0.94979079 0.94560669 0.94979079 0.94142259\n",
      " 0.94560669 0.94117647 0.94537815 0.94957983 0.94537815 0.94537815\n",
      " 0.94537815 0.94117647 0.94957983]\n",
      "Cross-validation scores:[0.86192469 0.88284519 0.84937238 0.89958159 0.85355649 0.89121339\n",
      " 0.89121339 0.90336134 0.87815126 0.86554622 0.86554622 0.8697479\n",
      " 0.86554622 0.85294118 0.8697479 ]\n",
      "Cross-validation scores:[0.82845188 0.76150628 0.76987448 0.21338912 0.20502092 0.72803347\n",
      " 0.24686192 0.21428571 0.29831933 0.25630252 0.2394958  0.78151261\n",
      " 0.7605042  0.27310924 0.27310924]\n"
     ]
    }
   ],
   "source": [
    "dtc = DecisionTreeClassifier()\n",
    "log = LogisticRegression()\n",
    "SVC = SVC(kernel = 'sigmoid', gamma='scale')\n",
    "KNN = KNeighborsClassifier()\n",
    "gnb = GaussianNB()\n",
    "Km = KMeans(n_clusters=2, n_init=10, random_state=42)\n",
    "#cause 90% or above is just too high might cause type 2 error so going for Naive Bayes cause it is above 80 and do what we want\n",
    "\n",
    "print(\"done predicting\")\n",
    "dtc_scores = cross_val_score(dtc, x_train, y_train, cv = 15, scoring='accuracy')\n",
    "log_scores = cross_val_score(log, x_train, y_train, cv = 15, scoring='accuracy')\n",
    "SVC_scores = cross_val_score(SVC, x_train, y_train, cv = 15, scoring='accuracy')\n",
    "KNN_scores = cross_val_score(KNN, x_train, y_train, cv = 15, scoring='accuracy')\n",
    "gnb_scores = cross_val_score(gnb, x_train, y_train, cv = 15, scoring='accuracy')\n",
    "Km_scores = cross_val_score(Km, x_train, y_train, cv = 15, scoring='accuracy')\n",
    "\n",
    "print('Cross-validation scores:{}'.format(dtc_scores))\n",
    "print('Cross-validation scores:{}'.format(log_scores))\n",
    "print('Cross-validation scores:{}'.format(SVC_scores))\n",
    "print('Cross-validation scores:{}'.format(KNN_scores))\n",
    "print('Cross-validation scores:{}'.format(gnb_scores))\n",
    "print('Cross-validation scores:{}'.format(Km_scores))"
   ]
  },
  {
   "cell_type": "code",
   "execution_count": 25,
   "metadata": {},
   "outputs": [
    {
     "name": "stdout",
     "output_type": "stream",
     "text": [
      "Summary of Accuracy Score\n",
      "\n",
      "Decision Tree Model:  0.9159\n",
      "Logreg Model:  0.955\n",
      "Support Vector Machine Model:  0.9243\n",
      "kNN Model:  0.9524\n",
      "Naive Bayes Model:  0.8728\n",
      "KMeans Model:  0.2172\n",
      "\n",
      "All Average cross-validation score\n",
      "\n",
      "Average cross-validation score for decision tree classifier: 0.9083\n",
      "Average cross-validation score for Logistic Regression: 0.9500\n",
      "Average cross-validation score for SVC: 0.9220\n",
      "Average cross-validation score for KNN: 0.9460\n",
      "Average cross-validation score for Naive Bayes: 0.8734\n",
      "Average cross-validation score for K-Mean: 0.4567\n"
     ]
    }
   ],
   "source": [
    "print('Summary of Accuracy Score\\n')\n",
    "for i in models:\n",
    "    model = models[i]\n",
    "    print(i + ' Model: ',accuracy_score(y_test, model.predict(x_test)).round(4))\n",
    "print('\\nAll Average cross-validation score\\n')\n",
    "print('Average cross-validation score for decision tree classifier: {:.4f}'.format(dtc_scores.mean()))\n",
    "print('Average cross-validation score for Logistic Regression: {:.4f}'.format(log_scores.mean()))\n",
    "print('Average cross-validation score for SVC: {:.4f}'.format(SVC_scores.mean()))\n",
    "print('Average cross-validation score for KNN: {:.4f}'.format(KNN_scores.mean()))\n",
    "print('Average cross-validation score for Naive Bayes: {:.4f}'.format(gnb_scores.mean()))\n",
    "print('Average cross-validation score for K-Mean: {:.4f}'.format(Km_scores.mean()))\n",
    "\n"
   ]
  },
  {
   "cell_type": "markdown",
   "metadata": {},
   "source": [
    "# Results and Analysis"
   ]
  },
  {
   "cell_type": "markdown",
   "metadata": {},
   "source": []
  },
  {
   "cell_type": "markdown",
   "metadata": {},
   "source": []
  },
  {
   "cell_type": "markdown",
   "metadata": {},
   "source": [
    "# Conclusion"
   ]
  },
  {
   "cell_type": "markdown",
   "metadata": {},
   "source": []
  },
  {
   "cell_type": "markdown",
   "metadata": {},
   "source": [
    "# References"
   ]
  },
  {
   "cell_type": "markdown",
   "metadata": {},
   "source": [
    "Johnson, W., Onuma, O., Owolabi, M., & Sachdev, S. (2016, September). Stroke: A global response is needed. Retrieved from https://www.who.int/bulletin/volumes/94/9/16-181636/en/\n",
    "\n",
    "Holland, K. (2019, October 16). Stroke: Causes, symptoms, diagnosis, and treatment. Retrieved from https://www.medicalnewstoday.com/articles/7624\n",
    "\n",
    "Stroke. (2021, February 09). Retrieved from https://www.mayoclinic.org/diseases-conditions/stroke/symptoms-causes/syc-20350113\n",
    "\n",
    "Liu, Q., Wang, X., Wang, Y., Wang, C., Zhao, X., Liu, L., Li, Z., Meng, X., Guo, L., & Wang, Y. (2018). Association between marriage and outcomes in patients with acute ischemic stroke. Journal of neurology, 265(4), 942–948. https://doi.org/10.1007/s00415-018-8793-z\n",
    "\n",
    "Shawnita Sealy-Jefferson, Molly Roseland, Michele L. Cote, Amy Lehman, Eric A. Whitsel, Jason Booza, and Michael S. Simon.Women's Health Reports.Dec 2020.326-333.http://doi.org/10.1089/whr.2020.0034\n",
    "\n",
    "Reeves, M. J., Bushnell, C. D., Howard, G., Gargano, J. W., Duncan, P. W., Lynch, G., Khatiwoda, A., & Lisabeth, L. (2008). Sex differences in stroke: epidemiology, clinical presentation, medical care, and outcomes. The Lancet. Neurology, 7(10), 915–926. https://doi.org/10.1016/S1474-4422(08)70193-5"
   ]
  }
 ],
 "metadata": {
  "kernelspec": {
   "display_name": "Python 3",
   "language": "python",
   "name": "python3"
  },
  "language_info": {
   "codemirror_mode": {
    "name": "ipython",
    "version": 3
   },
   "file_extension": ".py",
   "mimetype": "text/x-python",
   "name": "python",
   "nbconvert_exporter": "python",
   "pygments_lexer": "ipython3",
   "version": "3.8.5"
  }
 },
 "nbformat": 4,
 "nbformat_minor": 5
}
